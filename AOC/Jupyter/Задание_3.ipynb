{
 "cells": [
  {
   "cell_type": "code",
   "execution_count": 1,
   "id": "1292bb66-33cd-48b6-8875-59037f7606fd",
   "metadata": {},
   "outputs": [
    {
     "name": "stdout",
     "output_type": "stream",
     "text": [
      "States: 16\n",
      "Actions: 4\n"
     ]
    },
    {
     "name": "stderr",
     "output_type": "stream",
     "text": [
      "c:\\users\\user\\appdata\\local\\programs\\python\\python38\\lib\\site-packages\\gym\\utils\\passive_env_checker.py:233: DeprecationWarning: `np.bool8` is a deprecated alias for `np.bool_`.  (Deprecated NumPy 1.24)\n",
      "  if not isinstance(terminated, (bool, np.bool8)):\n"
     ]
    },
    {
     "name": "stdout",
     "output_type": "stream",
     "text": [
      "Reward = 1.0\n"
     ]
    }
   ],
   "source": [
    "import numpy as np\n",
    "import gym\n",
    "\n",
    "env = gym.make('FrozenLake-v1', render_mode=\"human\", is_slippery=False)\n",
    "\n",
    "NUM_STATES  = env.observation_space.n\n",
    "NUM_ACTIONS = env.action_space.n\n",
    "\n",
    "print('States: {}'.format(NUM_STATES))\n",
    "print('Actions: {}'.format(NUM_ACTIONS))\n",
    "\n",
    "#Q = np.random.rand(NUM_STATES, NUM_ACTIONS)\n",
    "Q = [\n",
    " [0, 0, 1, 0],  #0\n",
    " [0, 0, 1, 0],  #1\n",
    " [0, 1, 0, 0],  #2\n",
    " [0, 0, 0, 0],  #3\n",
    " [0, 0, 0, 0],  #4\n",
    " [0, 0, 0, 0],  #5\n",
    " [0, 1, 0, 0],  #6\n",
    " [0, 0, 0, 0],  #7\n",
    " [0, 0, 0, 0],  #8\n",
    " [0, 0, 0, 0],  #9\n",
    " [0, 1, 0, 0],  #10\n",
    " [0, 0, 0, 0],  #11\n",
    " [0, 0, 0, 0],  #12\n",
    " [0, 0, 0, 0],  #13\n",
    " [0, 0, 1, 0],  #14\n",
    " [0, 0, 1, 0]   #15\n",
    " ]\n",
    "\n",
    "observation = env.reset()[0]\n",
    "\n",
    "for i in range(10):\n",
    "    \n",
    "    a = np.argmax(Q[observation])\n",
    "    observation, reward, terminated, truncated, info = env.step(a)\n",
    "      \n",
    "    if reward != 0:\n",
    "        print('Reward = {}'.format(reward))\n",
    "\n",
    "    if terminated or truncated:\n",
    "        break\n",
    "\n",
    "env.render()  "
   ]
  },
  {
   "cell_type": "code",
   "execution_count": null,
   "id": "522056b3-f1d2-4dde-b327-660d2297769b",
   "metadata": {},
   "outputs": [],
   "source": []
  }
 ],
 "metadata": {
  "kernelspec": {
   "display_name": "Python 3 (ipykernel)",
   "language": "python",
   "name": "python3"
  },
  "language_info": {
   "codemirror_mode": {
    "name": "ipython",
    "version": 3
   },
   "file_extension": ".py",
   "mimetype": "text/x-python",
   "name": "python",
   "nbconvert_exporter": "python",
   "pygments_lexer": "ipython3",
   "version": "3.8.10"
  }
 },
 "nbformat": 4,
 "nbformat_minor": 5
}
