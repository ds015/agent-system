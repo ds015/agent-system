{
 "cells": [
  {
   "cell_type": "code",
   "execution_count": 3,
   "id": "290bb47c-f4ae-4217-9397-c69cfcf9444e",
   "metadata": {},
   "outputs": [
    {
     "name": "stdout",
     "output_type": "stream",
     "text": [
      "States: 16\n",
      "Actions: 4\n"
     ]
    },
    {
     "name": "stderr",
     "output_type": "stream",
     "text": [
      "c:\\users\\user\\appdata\\local\\programs\\python\\python38\\lib\\site-packages\\gym\\utils\\passive_env_checker.py:233: DeprecationWarning: `np.bool8` is a deprecated alias for `np.bool_`.  (Deprecated NumPy 1.24)\n",
      "  if not isinstance(terminated, (bool, np.bool8)):\n"
     ]
    },
    {
     "name": "stdout",
     "output_type": "stream",
     "text": [
      "Reward = 1.0\n"
     ]
    }
   ],
   "source": [
    "import gym\n",
    "\n",
    "# Стратегия движения\n",
    "def policy(s):\n",
    "    #a = env.action_space.sample() # случайная стратегия\n",
    "    \n",
    "    if s == 0:\n",
    "      a = 1\n",
    "    elif s == 4:\n",
    "      a = 1\n",
    "    elif s == 8:\n",
    "      a = 2\n",
    "    elif s == 9:\n",
    "      a = 2\n",
    "    elif s == 10:\n",
    "      a = 1\n",
    "    elif s == 14:\n",
    "      a = 2\n",
    "\n",
    "    return a\n",
    "\n",
    "env = gym.make('FrozenLake-v1', render_mode='human', is_slippery=False)\n",
    "\n",
    "NUM_STATES = env.observation_space.n\n",
    "NUM_ACTIONS = env.action_space.n\n",
    "\n",
    "print('States: {}'.format(NUM_STATES))\n",
    "print('Actions: {}'.format(NUM_ACTIONS))\n",
    "\n",
    "observation = env.reset()[0]\n",
    "\n",
    "for i in range(10):\n",
    "  a = policy(observation)\n",
    "  observation, reward, terminated, truncated, info = env.step(a)\n",
    "  \n",
    "  if reward != 0:\n",
    "    print('Reward = {}'.format(reward))\n",
    "\n",
    "  if terminated or truncated:\n",
    "    break\n",
    "\n",
    "env.render()        "
   ]
  },
  {
   "cell_type": "code",
   "execution_count": null,
   "id": "1cb31970-32b6-497d-b22c-c5698c478766",
   "metadata": {},
   "outputs": [],
   "source": []
  }
 ],
 "metadata": {
  "kernelspec": {
   "display_name": "Python 3 (ipykernel)",
   "language": "python",
   "name": "python3"
  },
  "language_info": {
   "codemirror_mode": {
    "name": "ipython",
    "version": 3
   },
   "file_extension": ".py",
   "mimetype": "text/x-python",
   "name": "python",
   "nbconvert_exporter": "python",
   "pygments_lexer": "ipython3",
   "version": "3.8.10"
  }
 },
 "nbformat": 4,
 "nbformat_minor": 5
}
